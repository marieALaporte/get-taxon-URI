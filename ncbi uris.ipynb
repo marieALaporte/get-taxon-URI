{
 "cells": [
  {
   "cell_type": "code",
   "execution_count": 1,
   "id": "overall-grocery",
   "metadata": {},
   "outputs": [],
   "source": [
    "import requests\n",
    "import json\n",
    "import pandas as pd\n",
    "import numpy as np"
   ]
  },
  {
   "cell_type": "markdown",
   "id": "thermal-proposition",
   "metadata": {},
   "source": [
    "#### This notebook reads taxon names stored in an Excel file and calls on the OLS API to get the NCBI Taxon identifiers. The taxon names are tentatively mapped to the main NCBI label but also to the different synonym fields "
   ]
  },
  {
   "cell_type": "markdown",
   "id": "monetary-training",
   "metadata": {},
   "source": [
    "### example code"
   ]
  },
  {
   "cell_type": "code",
   "execution_count": 86,
   "id": "balanced-jonathan",
   "metadata": {},
   "outputs": [
    {
     "name": "stdout",
     "output_type": "stream",
     "text": [
      "200 OK\n"
     ]
    }
   ],
   "source": [
    "## make request\n",
    "url = \"http://www.ebi.ac.uk/ols/api/select\"\n",
    "payload = \"Homo sapiens\"\n",
    "param = {\"q\": payload, \"ontology\": \"ncbitaxon\"}\n",
    "r = requests.get(url, params=param)\n",
    "print(r.status_code, r.reason)"
   ]
  },
  {
   "cell_type": "code",
   "execution_count": 87,
   "id": "central-click",
   "metadata": {},
   "outputs": [
    {
     "name": "stdout",
     "output_type": "stream",
     "text": [
      "{'responseHeader': {'status': 0, 'QTime': 2, 'params': {'hl': 'true', 'fl': 'iri,ontology_name,ontology_prefix,short_form,label,id,type,obo_id', 'start': '0', 'fq': ['ontology_name: (ncbitaxon)', 'is_obsolete:false'], 'rows': '10', 'hl.simple.pre': '<b>', 'bq': 'type:ontology^10.0 is_defining_ontology:true^100.0 label_s:\"homo sapiens\"^1000  label_autosuggest_e:\"homo sapiens\"^500 synonym_s:\"homo sapiens\" synonym_autosuggest_e:\"homo sapiens\"^100', 'q': '(Homo AND sapiens)', 'defType': 'edismax', 'hl.simple.post': '</b>', 'qf': 'label synonym label_autosuggest_e label_autosuggest synonym_autosuggest_e synonym_autosuggest shortform_autosuggest iri', 'hl.fl': ['label_autosuggest', 'label', 'synonym_autosuggest', 'synonym'], 'wt': 'json'}}, 'response': {'numFound': 10, 'start': 0, 'docs': [{'id': 'ncbitaxon:class:http://purl.obolibrary.org/obo/NCBITaxon_9606', 'iri': 'http://purl.obolibrary.org/obo/NCBITaxon_9606', 'short_form': 'NCBITaxon_9606', 'obo_id': 'NCBITaxon:9606', 'label': 'Homo sapiens', 'ontology_name': 'ncbitaxon', 'ontology_prefix': 'NCBITAXON', 'type': 'class'}, {'id': 'ncbitaxon:class:http://purl.obolibrary.org/obo/NCBITaxon_63221', 'iri': 'http://purl.obolibrary.org/obo/NCBITaxon_63221', 'short_form': 'NCBITaxon_63221', 'obo_id': 'NCBITaxon:63221', 'label': 'Homo sapiens neanderthalensis', 'ontology_name': 'ncbitaxon', 'ontology_prefix': 'NCBITAXON', 'type': 'class'}, {'id': 'ncbitaxon:class:http://purl.obolibrary.org/obo/NCBITaxon_2665953', 'iri': 'http://purl.obolibrary.org/obo/NCBITaxon_2665953', 'short_form': 'NCBITaxon_2665953', 'obo_id': 'NCBITaxon:2665953', 'label': 'Homo sapiens environmental sample', 'ontology_name': 'ncbitaxon', 'ontology_prefix': 'NCBITAXON', 'type': 'class'}, {'id': 'ncbitaxon:class:http://purl.obolibrary.org/obo/NCBITaxon_741158', 'iri': 'http://purl.obolibrary.org/obo/NCBITaxon_741158', 'short_form': 'NCBITaxon_741158', 'obo_id': 'NCBITaxon:741158', 'label': \"Homo sapiens subsp. 'Denisova'\", 'ontology_name': 'ncbitaxon', 'ontology_prefix': 'NCBITAXON', 'type': 'class'}, {'id': 'ncbitaxon:class:http://purl.obolibrary.org/obo/NCBITaxon_1573476', 'iri': 'http://purl.obolibrary.org/obo/NCBITaxon_1573476', 'short_form': 'NCBITaxon_1573476', 'obo_id': 'NCBITaxon:1573476', 'label': 'Homo sapiens/Rattus norvegicus xenograft', 'ontology_name': 'ncbitaxon', 'ontology_prefix': 'NCBITAXON', 'type': 'class'}, {'id': 'ncbitaxon:class:http://purl.obolibrary.org/obo/NCBITaxon_1383439', 'iri': 'http://purl.obolibrary.org/obo/NCBITaxon_1383439', 'short_form': 'NCBITaxon_1383439', 'obo_id': 'NCBITaxon:1383439', 'label': 'Homo sapiens/Mus musculus xenograft', 'ontology_name': 'ncbitaxon', 'ontology_prefix': 'NCBITAXON', 'type': 'class'}, {'id': 'ncbitaxon:class:http://purl.obolibrary.org/obo/NCBITaxon_1849111', 'iri': 'http://purl.obolibrary.org/obo/NCBITaxon_1849111', 'short_form': 'NCBITaxon_1849111', 'obo_id': 'NCBITaxon:1849111', 'label': 'Homo sapiens x Cricetulus griseus hybrid cell line', 'ontology_name': 'ncbitaxon', 'ontology_prefix': 'NCBITAXON', 'type': 'class'}, {'id': 'ncbitaxon:class:http://purl.obolibrary.org/obo/NCBITaxon_1131344', 'iri': 'http://purl.obolibrary.org/obo/NCBITaxon_1131344', 'short_form': 'NCBITaxon_1131344', 'obo_id': 'NCBITaxon:1131344', 'label': 'Homo sapiens x Mus musculus hybrid cell line', 'ontology_name': 'ncbitaxon', 'ontology_prefix': 'NCBITAXON', 'type': 'class'}, {'id': 'ncbitaxon:class:http://purl.obolibrary.org/obo/NCBITaxon_2045059', 'iri': 'http://purl.obolibrary.org/obo/NCBITaxon_2045059', 'short_form': 'NCBITaxon_2045059', 'obo_id': 'NCBITaxon:2045059', 'label': 'Homo sapiens x Rattus norvegicus fusion cell line', 'ontology_name': 'ncbitaxon', 'ontology_prefix': 'NCBITAXON', 'type': 'class'}, {'id': 'ncbitaxon:class:http://purl.obolibrary.org/obo/NCBITaxon_1035824', 'iri': 'http://purl.obolibrary.org/obo/NCBITaxon_1035824', 'short_form': 'NCBITaxon_1035824', 'obo_id': 'NCBITaxon:1035824', 'label': 'Trichuris sp. ex Homo sapiens JP-2011', 'ontology_name': 'ncbitaxon', 'ontology_prefix': 'NCBITAXON', 'type': 'class'}]}, 'highlighting': {'ncbitaxon:class:http://purl.obolibrary.org/obo/NCBITaxon_9606': {'label_autosuggest': ['<b>Homo</b> <b>sapiens</b>'], 'label': ['<b>Homo</b> <b>sapiens</b>']}, 'ncbitaxon:class:http://purl.obolibrary.org/obo/NCBITaxon_63221': {'label_autosuggest': ['<b>Homo</b> <b>sapiens</b> neanderthalensis'], 'label': ['<b>Homo</b> <b>sapiens</b> neanderthalensis']}, 'ncbitaxon:class:http://purl.obolibrary.org/obo/NCBITaxon_2665953': {'label_autosuggest': ['<b>Homo</b> <b>sapiens</b> environmental sample'], 'label': ['<b>Homo</b> <b>sapiens</b> environmental sample']}, 'ncbitaxon:class:http://purl.obolibrary.org/obo/NCBITaxon_741158': {'label_autosuggest': [\"<b>Homo</b> <b>sapiens</b> subsp. 'Denisova'\"], 'label': [\"<b>Homo</b> <b>sapiens</b> subsp. 'Denisova'\"]}, 'ncbitaxon:class:http://purl.obolibrary.org/obo/NCBITaxon_1573476': {'label_autosuggest': ['<b>Homo</b> <b>sapiens/Rattus</b> norvegicus xenograft'], 'label': ['<b>Homo</b> <b>sapiens</b>/Rattus norvegicus xenograft']}, 'ncbitaxon:class:http://purl.obolibrary.org/obo/NCBITaxon_1383439': {'label_autosuggest': ['<b>Homo</b> <b>sapiens/Mus</b> musculus xenograft'], 'label': ['<b>Homo</b> <b>sapiens</b>/Mus musculus xenograft']}, 'ncbitaxon:class:http://purl.obolibrary.org/obo/NCBITaxon_1849111': {'label_autosuggest': ['<b>Homo</b> <b>sapiens</b> x Cricetulus griseus hybrid cell line'], 'label': ['<b>Homo</b> <b>sapiens</b> x Cricetulus griseus hybrid cell line']}, 'ncbitaxon:class:http://purl.obolibrary.org/obo/NCBITaxon_1131344': {'label_autosuggest': ['<b>Homo</b> <b>sapiens</b> x Mus musculus hybrid cell line'], 'label': ['<b>Homo</b> <b>sapiens</b> x Mus musculus hybrid cell line']}, 'ncbitaxon:class:http://purl.obolibrary.org/obo/NCBITaxon_2045059': {'label_autosuggest': ['<b>Homo</b> <b>sapiens</b> x Rattus norvegicus fusion cell line'], 'label': ['<b>Homo</b> <b>sapiens</b> x Rattus norvegicus fusion cell line']}, 'ncbitaxon:class:http://purl.obolibrary.org/obo/NCBITaxon_1035824': {'label_autosuggest': ['Trichuris sp. ex <b>Homo</b> <b>sapiens</b> JP-2011'], 'label': ['Trichuris sp. ex <b>Homo</b> <b>sapiens</b> JP-2011']}}}\n"
     ]
    }
   ],
   "source": [
    "#print(r.json()[\"response\"][\"docs\"][0][\"iri\"])\n",
    "#print(r.json()[\"response\"][\"docs\"][0][\"short_form\"])\n",
    "#print(r.json()[\"response\"][\"docs\"][0][\"label\"])\n",
    "\n",
    "print(r.json())\n"
   ]
  },
  {
   "cell_type": "markdown",
   "id": "offshore-chester",
   "metadata": {},
   "source": [
    "### run the script with data"
   ]
  },
  {
   "cell_type": "code",
   "execution_count": 89,
   "id": "applicable-surprise",
   "metadata": {},
   "outputs": [],
   "source": [
    "## parse the file and get taxon name\n",
    "path='path_to_file.xlsx'\n",
    "xls = pd.ExcelFile(path)\n",
    "df = pd.read_excel(xls, 'List') ## reads the sheet List\n",
    "\n",
    "species = df['Species'] ## get the content of the column Species\n",
    "\n",
    "\n",
    "iris = []\n",
    "redu = []\n",
    "for sp in species:\n",
    "    if sp:\n",
    "        url = \"http://www.ebi.ac.uk/ols/api/select\"\n",
    "        param = {\"q\": sp, \"ontology\": \"ncbitaxon\"}\n",
    "        r = requests.get(url, params=param)\n",
    "\n",
    "        if r.status_code == 200:\n",
    "            if r.json()[\"response\"][\"numFound\"] > 0:\n",
    "                iri = r.json()[\"response\"][\"docs\"][0][\"iri\"]\n",
    "                short_form = r.json()[\"response\"][\"docs\"][0][\"short_form\"]\n",
    "                name = r.json()[\"response\"][\"docs\"][0][\"label\"]\n",
    "\n",
    "                iris.append(iri)\n",
    "                redu.append(short_form.split(\"_\")[1]+\"|\"+name)\n",
    "            else:\n",
    "                iris.append(\"\")\n",
    "                redu.append(\"\")\n",
    "\n",
    "        else:\n",
    "            iris.append(\"\")\n",
    "            redu.append(\"\")\n",
    "    else:\n",
    "        iris.append(\"\")\n",
    "        redu.append(\"\")\n",
    "\n"
   ]
  },
  {
   "cell_type": "code",
   "execution_count": 90,
   "id": "raised-abuse",
   "metadata": {},
   "outputs": [],
   "source": [
    "## add the column to the df\n",
    "species_index = df.columns.get_loc(\"Species\")\n",
    "df.insert(species_index+1, \"NCBI URI\", iris) ## insert NCBI URI column after the Species column\n",
    "df.insert(species_index+2, \"NCBI REDU\", redu) ## insert NCBI REDU column after the NCBI URI column\n",
    "\n",
    "#df.head()\n"
   ]
  },
  {
   "cell_type": "code",
   "execution_count": 85,
   "id": "different-genesis",
   "metadata": {},
   "outputs": [],
   "source": [
    "## save the file\n",
    "df.to_excel(\"species_with_ncbitaxon_ids.xlsx\")"
   ]
  },
  {
   "cell_type": "code",
   "execution_count": null,
   "id": "exact-maple",
   "metadata": {},
   "outputs": [],
   "source": []
  }
 ],
 "metadata": {
  "kernelspec": {
   "display_name": "Python 3",
   "language": "python",
   "name": "python3"
  },
  "language_info": {
   "codemirror_mode": {
    "name": "ipython",
    "version": 3
   },
   "file_extension": ".py",
   "mimetype": "text/x-python",
   "name": "python",
   "nbconvert_exporter": "python",
   "pygments_lexer": "ipython3",
   "version": "3.9.2"
  }
 },
 "nbformat": 4,
 "nbformat_minor": 5
}
